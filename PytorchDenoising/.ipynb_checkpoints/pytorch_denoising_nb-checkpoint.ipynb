{
 "cells": [
  {
   "cell_type": "code",
   "execution_count": null,
   "metadata": {},
   "outputs": [],
   "source": [
    "%matplotlib notebook\n",
    "from matplotlib import pyplot as plt\n",
    "\n",
    "import os\n",
    "\n",
    "import numpy as np\n",
    "\n",
    "import torch\n",
    "import torch.optim as optim\n",
    "\n",
    "from myutils import *"
   ]
  },
  {
   "cell_type": "code",
   "execution_count": null,
   "metadata": {},
   "outputs": [],
   "source": [
    "device = torch.device('cuda' if torch.cuda.is_available() else 'cpu')\n",
    "print('Using device:', device)"
   ]
  },
  {
   "cell_type": "code",
   "execution_count": null,
   "metadata": {},
   "outputs": [],
   "source": [
    "nrows = 128\n",
    "ncols = 128\n",
    "\n",
    "nsamples = 256\n",
    "\n",
    "transforms = [\n",
    "    add_randn_noise\n",
    "]\n",
    "\n",
    "params = {'batch_size': 64,\n",
    "          'shuffle': True,\n",
    "          'num_workers': 0} # change this if on gpu (try 6)"
   ]
  },
  {
   "cell_type": "code",
   "execution_count": null,
   "metadata": {},
   "outputs": [],
   "source": [
    "train_set = RandomDataset(nrows,ncols,nsamples,transforms,device)\n",
    "train_dataloader = torch.utils.data.DataLoader(train_set, **params)\n",
    "\n",
    "test_set = RandomDataset(nrows,ncols,nsamples,transforms,device)\n",
    "test_dataloader = torch.utils.data.DataLoader(test_set, **params)"
   ]
  },
  {
   "cell_type": "code",
   "execution_count": null,
   "metadata": {},
   "outputs": [],
   "source": [
    "data, labels = next(iter(train_set))   \n",
    "    \n",
    "plt.figure(figsize=(9,6))\n",
    "plt.subplot(1, 2, 1)\n",
    "plt.imshow(torch.squeeze(data),aspect='auto')\n",
    "plt.title('data')\n",
    "plt.subplot(1, 2, 2)\n",
    "plt.imshow(torch.squeeze(labels),aspect='auto')\n",
    "plt.title('labels')\n",
    "plt.show()"
   ]
  },
  {
   "cell_type": "code",
   "execution_count": null,
   "metadata": {},
   "outputs": [],
   "source": [
    "cnn_channels=[1,8,16,8,1]\n",
    "kernel_sizes=[3,3,3,3]\n",
    "\n",
    "model = CNN(cnn_channels,kernel_sizes)\n",
    "#model = UNet(cnn_channels,kernel_sizes,bilinear=False,double_conv=True)\n",
    "\n",
    "model.to(device)\n",
    "\n",
    "criterion = nn.MSELoss()\n",
    "\n",
    "#optimizer = optim.SGD(model.parameters(), lr=0.001, momentum=0.9)\n",
    "optimizer = optim.Adam(model.parameters())"
   ]
  },
  {
   "cell_type": "code",
   "execution_count": null,
   "metadata": {},
   "outputs": [],
   "source": [
    "epochs = 10\n",
    "patience = 5\n",
    "min_loss = float('inf')\n",
    "model.train()\n",
    "for t in range(epochs):\n",
    "    train_loss = train_loop(train_dataloader, model, criterion, optimizer)\n",
    "    test_loss = test_loop(test_dataloader, model, criterion)\n",
    "    \n",
    "    print('Epoch %i Train error: %0.4f Test error: %0.4f' % (t+1,train_loss,test_loss), end='\\r')\n",
    "    \n",
    "    if test_loss < min_loss:\n",
    "        n_not_improved = 0\n",
    "        print(\"\\nTest error decreased: saving model\")\n",
    "        min_loss = test_loss\n",
    "        if not os.path.exists('models'):\n",
    "            os.mkdir('models')\n",
    "        torch.save(model, 'models/model_checkpoint.pt')\n",
    "    else:\n",
    "        n_not_improved += 1\n",
    "        if n_not_improved>patience:\n",
    "            print('\\nTest error has not decreased for %i iterations. Returning' % n_not_improved)\n",
    "            break\n",
    "    \n",
    "print('\\nFinished Training. Final error: %0.4f' % min_loss)"
   ]
  },
  {
   "cell_type": "code",
   "execution_count": null,
   "metadata": {},
   "outputs": [],
   "source": [
    "# load last checkpoint\n",
    "model = torch.load('models/model_checkpoint.pt')"
   ]
  },
  {
   "cell_type": "code",
   "execution_count": null,
   "metadata": {},
   "outputs": [],
   "source": [
    "test_in, test_labels = next(iter(train_set)) \n",
    "\n",
    "model.eval()\n",
    "with torch.no_grad():\n",
    "    test_out = model(test_in[None,:])"
   ]
  },
  {
   "cell_type": "code",
   "execution_count": null,
   "metadata": {},
   "outputs": [],
   "source": [
    "plt.figure(figsize=(9,6))\n",
    "plt.subplot(1, 3, 1)\n",
    "plt.imshow(torch.squeeze(test_in),aspect='auto')\n",
    "plt.title('input')\n",
    "plt.subplot(1, 3, 2)\n",
    "plt.imshow(torch.squeeze(test_labels),aspect='auto')\n",
    "plt.title('label')\n",
    "plt.subplot(1, 3, 3)\n",
    "plt.imshow(torch.squeeze(test_out),aspect='auto')\n",
    "plt.title('output')\n",
    "plt.show()"
   ]
  },
  {
   "cell_type": "code",
   "execution_count": null,
   "metadata": {},
   "outputs": [],
   "source": [
    "plt.figure(figsize=(9,6))\n",
    "plt.plot(torch.squeeze(test_in)[:,20])\n",
    "plt.plot(torch.squeeze(test_out)[:,20])\n",
    "plt.plot(torch.squeeze(test_labels)[:,20])\n",
    "plt.legend(['in','out','labels'])\n",
    "plt.show()"
   ]
  },
  {
   "cell_type": "code",
   "execution_count": null,
   "metadata": {},
   "outputs": [],
   "source": [
    "data = np.load('../Sample Data/Stryde_input_data_csg1.npy')\n",
    "\n",
    "data = torch.tensor(data,requires_grad=False,dtype=torch.float)\n",
    "plt.figure(figsize=(9,6))\n",
    "plt.imshow(data.T/torch.std(data,dim=1),clim=[-.1,.1],aspect='auto',cmap='gray')\n",
    "plt.colorbar()\n",
    "plt.show()"
   ]
  },
  {
   "cell_type": "code",
   "execution_count": null,
   "metadata": {},
   "outputs": [],
   "source": [
    "with torch.no_grad():\n",
    "    test_out = torch.squeeze(model(data[None,None,:,:]))"
   ]
  },
  {
   "cell_type": "code",
   "execution_count": null,
   "metadata": {},
   "outputs": [],
   "source": [
    "plt.figure(figsize=(9,6))\n",
    "plt.imshow(test_out.T/torch.std(test_out,dim=1),clim=[-1,1],aspect='auto',cmap='gray')\n",
    "plt.colorbar()\n",
    "plt.show()"
   ]
  },
  {
   "cell_type": "code",
   "execution_count": null,
   "metadata": {},
   "outputs": [],
   "source": [
    "plt.figure(figsize=(9,6))\n",
    "plt.plot(test_out[:,test_out.shape[1]//2])\n",
    "plt.plot(data[:,data.shape[1]//2])\n",
    "plt.show()"
   ]
  },
  {
   "cell_type": "code",
   "execution_count": null,
   "metadata": {},
   "outputs": [],
   "source": []
  }
 ],
 "metadata": {
  "kernelspec": {
   "display_name": "Python 3",
   "language": "python",
   "name": "python3"
  },
  "language_info": {
   "codemirror_mode": {
    "name": "ipython",
    "version": 3
   },
   "file_extension": ".py",
   "mimetype": "text/x-python",
   "name": "python",
   "nbconvert_exporter": "python",
   "pygments_lexer": "ipython3",
   "version": "3.8.8"
  }
 },
 "nbformat": 4,
 "nbformat_minor": 2
}
